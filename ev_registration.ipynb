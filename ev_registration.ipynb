{
 "cells": [
  {
   "cell_type": "markdown",
   "id": "ff7c8341",
   "metadata": {},
   "source": [
    "## Research"
   ]
  },
  {
   "cell_type": "code",
   "execution_count": 1,
   "id": "e0cfc718",
   "metadata": {},
   "outputs": [],
   "source": [
    "import pandas as pd"
   ]
  },
  {
   "cell_type": "code",
   "execution_count": 16,
   "id": "eaccd1c3",
   "metadata": {},
   "outputs": [],
   "source": [
    "df = pd.read_csv('ev_registrations.csv', dtype = str)"
   ]
  },
  {
   "cell_type": "markdown",
   "id": "6589e2de",
   "metadata": {},
   "source": [
    "## Texas 2023 ev registration data from evhub: https://www.atlasevhub.com/materials/state-ev-registration-data/#data-format"
   ]
  },
  {
   "cell_type": "code",
   "execution_count": 17,
   "id": "ed5ab916",
   "metadata": {},
   "outputs": [
    {
     "data": {
      "text/html": [
       "<div>\n",
       "<style scoped>\n",
       "    .dataframe tbody tr th:only-of-type {\n",
       "        vertical-align: middle;\n",
       "    }\n",
       "\n",
       "    .dataframe tbody tr th {\n",
       "        vertical-align: top;\n",
       "    }\n",
       "\n",
       "    .dataframe thead th {\n",
       "        text-align: right;\n",
       "    }\n",
       "</style>\n",
       "<table border=\"1\" class=\"dataframe\">\n",
       "  <thead>\n",
       "    <tr style=\"text-align: right;\">\n",
       "      <th></th>\n",
       "      <th>State</th>\n",
       "      <th>ZIP Code</th>\n",
       "      <th>Registration Date</th>\n",
       "      <th>Vehicle Make</th>\n",
       "      <th>Vehicle Model</th>\n",
       "      <th>Vehicle Model Year</th>\n",
       "      <th>Drivetrain Type</th>\n",
       "      <th>Vehicle GVWR Class</th>\n",
       "      <th>Vehicle Category</th>\n",
       "      <th>Vehicle Count</th>\n",
       "      <th>DMV Snapshot ID</th>\n",
       "      <th>DMV Snapshot (Date)</th>\n",
       "      <th>Latest DMV Snapshot Flag</th>\n",
       "    </tr>\n",
       "  </thead>\n",
       "  <tbody>\n",
       "    <tr>\n",
       "      <th>0</th>\n",
       "      <td>TX</td>\n",
       "      <td>77044</td>\n",
       "      <td>10/1/2022</td>\n",
       "      <td>TESLA</td>\n",
       "      <td>MODEL 3</td>\n",
       "      <td>2018</td>\n",
       "      <td>BEV</td>\n",
       "      <td>1</td>\n",
       "      <td>Light-Duty (Class 1-2A)</td>\n",
       "      <td>1</td>\n",
       "      <td>5</td>\n",
       "      <td>DMV Snapshot (1/1/2023)</td>\n",
       "      <td>False</td>\n",
       "    </tr>\n",
       "    <tr>\n",
       "      <th>1</th>\n",
       "      <td>TX</td>\n",
       "      <td>75204</td>\n",
       "      <td>10/1/2022</td>\n",
       "      <td>TESLA</td>\n",
       "      <td>MODEL 3</td>\n",
       "      <td>2018</td>\n",
       "      <td>BEV</td>\n",
       "      <td>1</td>\n",
       "      <td>Light-Duty (Class 1-2A)</td>\n",
       "      <td>1</td>\n",
       "      <td>5</td>\n",
       "      <td>DMV Snapshot (1/1/2023)</td>\n",
       "      <td>False</td>\n",
       "    </tr>\n",
       "    <tr>\n",
       "      <th>2</th>\n",
       "      <td>TX</td>\n",
       "      <td>78736</td>\n",
       "      <td>10/1/2022</td>\n",
       "      <td>TESLA</td>\n",
       "      <td>MODEL 3</td>\n",
       "      <td>2018</td>\n",
       "      <td>BEV</td>\n",
       "      <td>1</td>\n",
       "      <td>Light-Duty (Class 1-2A)</td>\n",
       "      <td>1</td>\n",
       "      <td>5</td>\n",
       "      <td>DMV Snapshot (1/1/2023)</td>\n",
       "      <td>False</td>\n",
       "    </tr>\n",
       "    <tr>\n",
       "      <th>3</th>\n",
       "      <td>TX</td>\n",
       "      <td>76020</td>\n",
       "      <td>10/1/2022</td>\n",
       "      <td>TESLA</td>\n",
       "      <td>MODEL 3</td>\n",
       "      <td>2018</td>\n",
       "      <td>BEV</td>\n",
       "      <td>1</td>\n",
       "      <td>Light-Duty (Class 1-2A)</td>\n",
       "      <td>1</td>\n",
       "      <td>5</td>\n",
       "      <td>DMV Snapshot (1/1/2023)</td>\n",
       "      <td>False</td>\n",
       "    </tr>\n",
       "    <tr>\n",
       "      <th>4</th>\n",
       "      <td>TX</td>\n",
       "      <td>75707</td>\n",
       "      <td>10/1/2022</td>\n",
       "      <td>TESLA</td>\n",
       "      <td>MODEL 3</td>\n",
       "      <td>2018</td>\n",
       "      <td>BEV</td>\n",
       "      <td>1</td>\n",
       "      <td>Light-Duty (Class 1-2A)</td>\n",
       "      <td>1</td>\n",
       "      <td>5</td>\n",
       "      <td>DMV Snapshot (1/1/2023)</td>\n",
       "      <td>False</td>\n",
       "    </tr>\n",
       "  </tbody>\n",
       "</table>\n",
       "</div>"
      ],
      "text/plain": [
       "  State ZIP Code Registration Date Vehicle Make Vehicle Model  \\\n",
       "0    TX    77044         10/1/2022        TESLA       MODEL 3   \n",
       "1    TX    75204         10/1/2022        TESLA       MODEL 3   \n",
       "2    TX    78736         10/1/2022        TESLA       MODEL 3   \n",
       "3    TX    76020         10/1/2022        TESLA       MODEL 3   \n",
       "4    TX    75707         10/1/2022        TESLA       MODEL 3   \n",
       "\n",
       "  Vehicle Model Year Drivetrain Type Vehicle GVWR Class  \\\n",
       "0               2018             BEV                  1   \n",
       "1               2018             BEV                  1   \n",
       "2               2018             BEV                  1   \n",
       "3               2018             BEV                  1   \n",
       "4               2018             BEV                  1   \n",
       "\n",
       "          Vehicle Category Vehicle Count DMV Snapshot ID  \\\n",
       "0  Light-Duty (Class 1-2A)             1               5   \n",
       "1  Light-Duty (Class 1-2A)             1               5   \n",
       "2  Light-Duty (Class 1-2A)             1               5   \n",
       "3  Light-Duty (Class 1-2A)             1               5   \n",
       "4  Light-Duty (Class 1-2A)             1               5   \n",
       "\n",
       "       DMV Snapshot (Date) Latest DMV Snapshot Flag  \n",
       "0  DMV Snapshot (1/1/2023)                    False  \n",
       "1  DMV Snapshot (1/1/2023)                    False  \n",
       "2  DMV Snapshot (1/1/2023)                    False  \n",
       "3  DMV Snapshot (1/1/2023)                    False  \n",
       "4  DMV Snapshot (1/1/2023)                    False  "
      ]
     },
     "execution_count": 17,
     "metadata": {},
     "output_type": "execute_result"
    }
   ],
   "source": [
    "df.head()"
   ]
  },
  {
   "cell_type": "code",
   "execution_count": 26,
   "id": "0587ddfb",
   "metadata": {},
   "outputs": [
    {
     "data": {
      "text/plain": [
       "(641033, 13)"
      ]
     },
     "execution_count": 26,
     "metadata": {},
     "output_type": "execute_result"
    }
   ],
   "source": [
    "df.shape"
   ]
  },
  {
   "cell_type": "code",
   "execution_count": 33,
   "id": "fe55218e",
   "metadata": {},
   "outputs": [
    {
     "name": "stdout",
     "output_type": "stream",
     "text": [
      "<class 'pandas.core.frame.DataFrame'>\n",
      "RangeIndex: 641033 entries, 0 to 641032\n",
      "Data columns (total 13 columns):\n",
      " #   Column                    Non-Null Count   Dtype \n",
      "---  ------                    --------------   ----- \n",
      " 0   state                     641033 non-null  object\n",
      " 1   zip_code                  641033 non-null  object\n",
      " 2   registration_date         641033 non-null  object\n",
      " 3   vehicle_make              641033 non-null  object\n",
      " 4   vehicle_model             641033 non-null  object\n",
      " 5   vehicle_model_year        641033 non-null  object\n",
      " 6   drivetrain_type           641033 non-null  object\n",
      " 7   vehicle_gvwr_class        641033 non-null  object\n",
      " 8   vehicle_category          641033 non-null  object\n",
      " 9   vehicle_count             641033 non-null  object\n",
      " 10  dmv_snapshot_id           641033 non-null  object\n",
      " 11  dmv_snapshot_(date)       641033 non-null  object\n",
      " 12  latest_dmv_snapshot_flag  641033 non-null  object\n",
      "dtypes: object(13)\n",
      "memory usage: 63.6+ MB\n"
     ]
    }
   ],
   "source": [
    "df.info()"
   ]
  },
  {
   "cell_type": "code",
   "execution_count": 18,
   "id": "3f71d9a6",
   "metadata": {
    "scrolled": false
   },
   "outputs": [
    {
     "data": {
      "text/plain": [
       "State                       0\n",
       "ZIP Code                    0\n",
       "Registration Date           0\n",
       "Vehicle Make                0\n",
       "Vehicle Model               0\n",
       "Vehicle Model Year          0\n",
       "Drivetrain Type             0\n",
       "Vehicle GVWR Class          0\n",
       "Vehicle Category            0\n",
       "Vehicle Count               0\n",
       "DMV Snapshot ID             0\n",
       "DMV Snapshot (Date)         0\n",
       "Latest DMV Snapshot Flag    0\n",
       "dtype: int64"
      ]
     },
     "execution_count": 18,
     "metadata": {},
     "output_type": "execute_result"
    }
   ],
   "source": [
    "df.isnull().sum()"
   ]
  },
  {
   "cell_type": "code",
   "execution_count": 21,
   "id": "a97696ea",
   "metadata": {},
   "outputs": [],
   "source": [
    "df.columns = df.columns.str.replace(' ', '_')"
   ]
  },
  {
   "cell_type": "code",
   "execution_count": 23,
   "id": "e62091f0",
   "metadata": {},
   "outputs": [],
   "source": [
    "df.columns = df.columns.str.lower()"
   ]
  },
  {
   "cell_type": "code",
   "execution_count": 24,
   "id": "8e8af9b0",
   "metadata": {},
   "outputs": [
    {
     "data": {
      "text/html": [
       "<div>\n",
       "<style scoped>\n",
       "    .dataframe tbody tr th:only-of-type {\n",
       "        vertical-align: middle;\n",
       "    }\n",
       "\n",
       "    .dataframe tbody tr th {\n",
       "        vertical-align: top;\n",
       "    }\n",
       "\n",
       "    .dataframe thead th {\n",
       "        text-align: right;\n",
       "    }\n",
       "</style>\n",
       "<table border=\"1\" class=\"dataframe\">\n",
       "  <thead>\n",
       "    <tr style=\"text-align: right;\">\n",
       "      <th></th>\n",
       "      <th>state</th>\n",
       "      <th>zip_code</th>\n",
       "      <th>registration_date</th>\n",
       "      <th>vehicle_make</th>\n",
       "      <th>vehicle_model</th>\n",
       "      <th>vehicle_model_year</th>\n",
       "      <th>drivetrain_type</th>\n",
       "      <th>vehicle_gvwr_class</th>\n",
       "      <th>vehicle_category</th>\n",
       "      <th>vehicle_count</th>\n",
       "      <th>dmv_snapshot_id</th>\n",
       "      <th>dmv_snapshot_(date)</th>\n",
       "      <th>latest_dmv_snapshot_flag</th>\n",
       "    </tr>\n",
       "  </thead>\n",
       "  <tbody>\n",
       "    <tr>\n",
       "      <th>0</th>\n",
       "      <td>TX</td>\n",
       "      <td>77044</td>\n",
       "      <td>10/1/2022</td>\n",
       "      <td>TESLA</td>\n",
       "      <td>MODEL 3</td>\n",
       "      <td>2018</td>\n",
       "      <td>BEV</td>\n",
       "      <td>1</td>\n",
       "      <td>Light-Duty (Class 1-2A)</td>\n",
       "      <td>1</td>\n",
       "      <td>5</td>\n",
       "      <td>DMV Snapshot (1/1/2023)</td>\n",
       "      <td>False</td>\n",
       "    </tr>\n",
       "    <tr>\n",
       "      <th>1</th>\n",
       "      <td>TX</td>\n",
       "      <td>75204</td>\n",
       "      <td>10/1/2022</td>\n",
       "      <td>TESLA</td>\n",
       "      <td>MODEL 3</td>\n",
       "      <td>2018</td>\n",
       "      <td>BEV</td>\n",
       "      <td>1</td>\n",
       "      <td>Light-Duty (Class 1-2A)</td>\n",
       "      <td>1</td>\n",
       "      <td>5</td>\n",
       "      <td>DMV Snapshot (1/1/2023)</td>\n",
       "      <td>False</td>\n",
       "    </tr>\n",
       "    <tr>\n",
       "      <th>2</th>\n",
       "      <td>TX</td>\n",
       "      <td>78736</td>\n",
       "      <td>10/1/2022</td>\n",
       "      <td>TESLA</td>\n",
       "      <td>MODEL 3</td>\n",
       "      <td>2018</td>\n",
       "      <td>BEV</td>\n",
       "      <td>1</td>\n",
       "      <td>Light-Duty (Class 1-2A)</td>\n",
       "      <td>1</td>\n",
       "      <td>5</td>\n",
       "      <td>DMV Snapshot (1/1/2023)</td>\n",
       "      <td>False</td>\n",
       "    </tr>\n",
       "    <tr>\n",
       "      <th>3</th>\n",
       "      <td>TX</td>\n",
       "      <td>76020</td>\n",
       "      <td>10/1/2022</td>\n",
       "      <td>TESLA</td>\n",
       "      <td>MODEL 3</td>\n",
       "      <td>2018</td>\n",
       "      <td>BEV</td>\n",
       "      <td>1</td>\n",
       "      <td>Light-Duty (Class 1-2A)</td>\n",
       "      <td>1</td>\n",
       "      <td>5</td>\n",
       "      <td>DMV Snapshot (1/1/2023)</td>\n",
       "      <td>False</td>\n",
       "    </tr>\n",
       "    <tr>\n",
       "      <th>4</th>\n",
       "      <td>TX</td>\n",
       "      <td>75707</td>\n",
       "      <td>10/1/2022</td>\n",
       "      <td>TESLA</td>\n",
       "      <td>MODEL 3</td>\n",
       "      <td>2018</td>\n",
       "      <td>BEV</td>\n",
       "      <td>1</td>\n",
       "      <td>Light-Duty (Class 1-2A)</td>\n",
       "      <td>1</td>\n",
       "      <td>5</td>\n",
       "      <td>DMV Snapshot (1/1/2023)</td>\n",
       "      <td>False</td>\n",
       "    </tr>\n",
       "  </tbody>\n",
       "</table>\n",
       "</div>"
      ],
      "text/plain": [
       "  state zip_code registration_date vehicle_make vehicle_model  \\\n",
       "0    TX    77044         10/1/2022        TESLA       MODEL 3   \n",
       "1    TX    75204         10/1/2022        TESLA       MODEL 3   \n",
       "2    TX    78736         10/1/2022        TESLA       MODEL 3   \n",
       "3    TX    76020         10/1/2022        TESLA       MODEL 3   \n",
       "4    TX    75707         10/1/2022        TESLA       MODEL 3   \n",
       "\n",
       "  vehicle_model_year drivetrain_type vehicle_gvwr_class  \\\n",
       "0               2018             BEV                  1   \n",
       "1               2018             BEV                  1   \n",
       "2               2018             BEV                  1   \n",
       "3               2018             BEV                  1   \n",
       "4               2018             BEV                  1   \n",
       "\n",
       "          vehicle_category vehicle_count dmv_snapshot_id  \\\n",
       "0  Light-Duty (Class 1-2A)             1               5   \n",
       "1  Light-Duty (Class 1-2A)             1               5   \n",
       "2  Light-Duty (Class 1-2A)             1               5   \n",
       "3  Light-Duty (Class 1-2A)             1               5   \n",
       "4  Light-Duty (Class 1-2A)             1               5   \n",
       "\n",
       "       dmv_snapshot_(date) latest_dmv_snapshot_flag  \n",
       "0  DMV Snapshot (1/1/2023)                    False  \n",
       "1  DMV Snapshot (1/1/2023)                    False  \n",
       "2  DMV Snapshot (1/1/2023)                    False  \n",
       "3  DMV Snapshot (1/1/2023)                    False  \n",
       "4  DMV Snapshot (1/1/2023)                    False  "
      ]
     },
     "execution_count": 24,
     "metadata": {},
     "output_type": "execute_result"
    }
   ],
   "source": [
    "df.head()"
   ]
  },
  {
   "cell_type": "markdown",
   "id": "cab12f67",
   "metadata": {},
   "source": [
    "## My goal is to identify the most common ev make/model/year and use that to do more research on kwh/mile, battery types, plug compatibility\n",
    "\n",
    "## This research will allow me to determine station placement and what level and networks are most efficient"
   ]
  },
  {
   "cell_type": "code",
   "execution_count": 37,
   "id": "2da958f8",
   "metadata": {
    "scrolled": true
   },
   "outputs": [
    {
     "data": {
      "text/plain": [
       "TESLA                                   0.501155\n",
       "CHEVROLET                               0.082996\n",
       "BMW                                     0.070546\n",
       "FORD                                    0.063315\n",
       "NISSAN                                  0.041656\n",
       "TOYOTA                                  0.030343\n",
       "AUDI                                    0.024195\n",
       "JEEP                                    0.022224\n",
       "VOLVO                                   0.021663\n",
       "PORSCHE                                 0.021197\n",
       "CHRYSLER                                0.019497\n",
       "KIA                                     0.016792\n",
       "VOLKSWAGEN                              0.011698\n",
       "HONDA                                   0.009592\n",
       "HYUNDAI                                 0.008854\n",
       "MERCEDES-BENZ                           0.008663\n",
       "RIVIAN                                  0.007722\n",
       "FIAT                                    0.005594\n",
       "MITSUBISHI                              0.004326\n",
       "CADILLAC                                0.004282\n",
       "LINCOLN                                 0.004271\n",
       "MINI                                    0.003936\n",
       "POLESTAR                                0.003608\n",
       "SMART                                   0.002090\n",
       "JAGUAR                                  0.001984\n",
       "LUCID                                   0.001555\n",
       "LEXUS                                   0.000874\n",
       "GEM                                     0.000783\n",
       "LAND ROVER                              0.000738\n",
       "SUBARU                                  0.000671\n",
       "FISKER                                  0.000644\n",
       "GMC                                     0.000557\n",
       "POLARIS                                 0.000504\n",
       "GENESIS                                 0.000234\n",
       "KARMA                                   0.000225\n",
       "MAZDA                                   0.000190\n",
       "FERRARI                                 0.000147\n",
       "BENTLEY                                 0.000145\n",
       "WORKHORSE                               0.000123\n",
       "MCLAREN                                 0.000056\n",
       "NEW FLYER                               0.000053\n",
       "E-SUV                                   0.000048\n",
       "CRUISE                                  0.000039\n",
       "SMITH                                   0.000034\n",
       "MILES                                   0.000031\n",
       "WHEEGO ELECTRIC CARS                    0.000020\n",
       "ALFA ROMEO                              0.000017\n",
       "E-RIDE                                  0.000017\n",
       "INTERNATIONAL                           0.000014\n",
       "PETERBILT                               0.000014\n",
       "AZURE DYNAMICS                          0.000012\n",
       "GREEN ELEC-MOTOR                        0.000011\n",
       "CODA                                    0.000008\n",
       "FREIGHTLINER                            0.000008\n",
       "VOLVO TRUCK                             0.000008\n",
       "XOS                                     0.000008\n",
       "MITSUBISHI FUSO                         0.000005\n",
       "TIANJIN QINGYUAN ELECTRIC VEHICLE CO    0.000003\n",
       "GILLIG                                  0.000003\n",
       "Name: vehicle_make, dtype: float64"
      ]
     },
     "execution_count": 37,
     "metadata": {},
     "output_type": "execute_result"
    }
   ],
   "source": [
    "df.vehicle_make.value_counts()/641033"
   ]
  },
  {
   "cell_type": "code",
   "execution_count": 36,
   "id": "35c31bb8",
   "metadata": {},
   "outputs": [
    {
     "data": {
      "text/plain": [
       "count     641033\n",
       "unique        59\n",
       "top        TESLA\n",
       "freq      321257\n",
       "Name: vehicle_make, dtype: object"
      ]
     },
     "execution_count": 36,
     "metadata": {},
     "output_type": "execute_result"
    }
   ],
   "source": [
    "df.vehicle_make.describe()"
   ]
  },
  {
   "cell_type": "markdown",
   "id": "7476f014",
   "metadata": {},
   "source": [
    "## 50% registerred ev's are Tesla's. I assume this will not drop significantly for a long time. Therefore Tesla stations (commonly level 3) will be prioritized. \n",
    "\n",
    "## What is the cost for these? How will it affect environment? Can we use level 2 stations for Teslas? How does temperatures affect efficiency?\n",
    "\n",
    "## Tesla Model 3 has a driving range between 300-380 miles\n",
    "\n",
    "## \"It is possible for Tesla vehicles to use J1772, CHAdeMO or CCS Type 1 connectors provided the owner has purchased the appropriate adapter.\"\n",
    "## \"Starting in spring 2024, electric vehicles from these companies ( Ford, General Motors, Mercedes-Benz, Nissan, Polestar, Rivian and Volvo) will be able to charge at most of Tesla's Superchargers provided they have the necessary adapter.\"\n",
    "\n",
    "## Sources: https://www.edmunds.com/electric-car/articles/do-all-electric-cars-use-the-same-charger.html\n",
    "\n",
    "## https://www.kbb.com/car-advice/what-charger-for-ev/#link5\n",
    "\n",
    "## https://www.wintonsworld.com/wintonsworld-electric-car-tests-september-2023/\n",
    "\n",
    "## https://ev-database.org/car/1991/Tesla-Model-3\n",
    "\n",
    "## https://www.msn.com/en-us/autos/news/cr-s-real-world-ev-range-tests-show-which-models-beat-epa-estimates/ar-AA1l1PRJ#comments"
   ]
  },
  {
   "cell_type": "markdown",
   "id": "b6bf100f",
   "metadata": {},
   "source": [
    "---"
   ]
  },
  {
   "cell_type": "code",
   "execution_count": 41,
   "id": "fe060286",
   "metadata": {},
   "outputs": [
    {
     "data": {
      "text/plain": [
       "MODEL 3          0.220516\n",
       "MODEL Y          0.111077\n",
       "MODEL S          0.109871\n",
       "MODEL X          0.059194\n",
       "VOLT             0.050400\n",
       "                   ...   \n",
       "MX-30            0.000003\n",
       "MILES ZX40ST     0.000003\n",
       "SV05             0.000003\n",
       "LOW FLOOR BUS    0.000003\n",
       "ASPHALT          0.000003\n",
       "Name: vehicle_model, Length: 160, dtype: float64"
      ]
     },
     "execution_count": 41,
     "metadata": {},
     "output_type": "execute_result"
    }
   ],
   "source": [
    "df.vehicle_model.value_counts()/641033"
   ]
  },
  {
   "cell_type": "code",
   "execution_count": 40,
   "id": "7e6cc4cb",
   "metadata": {},
   "outputs": [
    {
     "data": {
      "text/plain": [
       "count      641033\n",
       "unique        160\n",
       "top       MODEL 3\n",
       "freq       141358\n",
       "Name: vehicle_model, dtype: object"
      ]
     },
     "execution_count": 40,
     "metadata": {},
     "output_type": "execute_result"
    }
   ],
   "source": [
    "df.vehicle_model.describe()"
   ]
  },
  {
   "cell_type": "markdown",
   "id": "e7250122",
   "metadata": {},
   "source": [
    "## No insights from this\n",
    "\n",
    "## Does year affect plug type?"
   ]
  },
  {
   "cell_type": "code",
   "execution_count": 43,
   "id": "ce56f096",
   "metadata": {},
   "outputs": [
    {
     "data": {
      "text/plain": [
       "2022    0.168487\n",
       "2021    0.148635\n",
       "2018    0.133893\n",
       "2023    0.102959\n",
       "2020    0.097594\n",
       "2019    0.086563\n",
       "2017    0.077291\n",
       "2016    0.050308\n",
       "2015    0.042920\n",
       "2014    0.037234\n",
       "2013    0.031499\n",
       "2012    0.013283\n",
       "2011    0.005688\n",
       "2024    0.002162\n",
       "2002    0.000378\n",
       "2010    0.000339\n",
       "2008    0.000232\n",
       "2009    0.000126\n",
       "2000    0.000084\n",
       "2001    0.000080\n",
       "2006    0.000059\n",
       "2005    0.000058\n",
       "2007    0.000045\n",
       "2003    0.000025\n",
       "1999    0.000022\n",
       "1993    0.000014\n",
       "2004    0.000011\n",
       "1998    0.000006\n",
       "1988    0.000003\n",
       "1987    0.000002\n",
       "Name: vehicle_model_year, dtype: float64"
      ]
     },
     "execution_count": 43,
     "metadata": {},
     "output_type": "execute_result"
    }
   ],
   "source": [
    "df.vehicle_model_year.value_counts()/641033"
   ]
  },
  {
   "cell_type": "code",
   "execution_count": 44,
   "id": "33bd0a26",
   "metadata": {},
   "outputs": [
    {
     "data": {
      "text/plain": [
       "count     641033\n",
       "unique        30\n",
       "top         2022\n",
       "freq      108006\n",
       "Name: vehicle_model_year, dtype: object"
      ]
     },
     "execution_count": 44,
     "metadata": {},
     "output_type": "execute_result"
    }
   ],
   "source": [
    "df.vehicle_model_year.describe()"
   ]
  },
  {
   "cell_type": "markdown",
   "id": "7d23c7b4",
   "metadata": {},
   "source": [
    "## Where do most vehicles reside?"
   ]
  },
  {
   "cell_type": "code",
   "execution_count": 46,
   "id": "a36acd89",
   "metadata": {},
   "outputs": [
    {
     "data": {
      "text/plain": [
       "75035    0.007775\n",
       "77479    0.007466\n",
       "78746    0.007390\n",
       "78613    0.007064\n",
       "78704    0.007004\n",
       "           ...   \n",
       "75710    0.000002\n",
       "77263    0.000002\n",
       "78951    0.000002\n",
       "79012    0.000002\n",
       "73301    0.000002\n",
       "Name: zip_code, Length: 1816, dtype: float64"
      ]
     },
     "execution_count": 46,
     "metadata": {},
     "output_type": "execute_result"
    }
   ],
   "source": [
    "df.zip_code.value_counts()/641033"
   ]
  },
  {
   "cell_type": "code",
   "execution_count": 47,
   "id": "ba69b67e",
   "metadata": {},
   "outputs": [
    {
     "data": {
      "text/plain": [
       "count     641033\n",
       "unique      1816\n",
       "top        75035\n",
       "freq        4984\n",
       "Name: zip_code, dtype: object"
      ]
     },
     "execution_count": 47,
     "metadata": {},
     "output_type": "execute_result"
    }
   ],
   "source": [
    "df.zip_code.describe()"
   ]
  },
  {
   "cell_type": "markdown",
   "id": "e5de7792",
   "metadata": {},
   "source": [
    "## Frisco, TX"
   ]
  },
  {
   "cell_type": "markdown",
   "id": "c8cbeac2",
   "metadata": {},
   "source": [
    "## according to source below DFW has the most registered evs\n",
    "\n",
    "## https://app.powerbi.com/view?r=eyJrIjoiYTRlY2M2MTctZDYwZC00MDNjLThkZDMtZjY5N2Y1YzlkNzA5IiwidCI6IjJmNWU3ZWJjLTIyYjAtNGZiZS05MzRjLWFhYmRkYjRlMjliMSIsImMiOjN9"
   ]
  },
  {
   "cell_type": "code",
   "execution_count": 50,
   "id": "e875f024",
   "metadata": {},
   "outputs": [],
   "source": [
    "dfw = df[df['zip_code'].str.startswith('75')]"
   ]
  },
  {
   "cell_type": "code",
   "execution_count": 61,
   "id": "5912c35b",
   "metadata": {},
   "outputs": [
    {
     "data": {
      "text/html": [
       "<div>\n",
       "<style scoped>\n",
       "    .dataframe tbody tr th:only-of-type {\n",
       "        vertical-align: middle;\n",
       "    }\n",
       "\n",
       "    .dataframe tbody tr th {\n",
       "        vertical-align: top;\n",
       "    }\n",
       "\n",
       "    .dataframe thead th {\n",
       "        text-align: right;\n",
       "    }\n",
       "</style>\n",
       "<table border=\"1\" class=\"dataframe\">\n",
       "  <thead>\n",
       "    <tr style=\"text-align: right;\">\n",
       "      <th></th>\n",
       "      <th>state</th>\n",
       "      <th>zip_code</th>\n",
       "      <th>registration_date</th>\n",
       "      <th>vehicle_make</th>\n",
       "      <th>vehicle_model</th>\n",
       "      <th>vehicle_model_year</th>\n",
       "      <th>drivetrain_type</th>\n",
       "      <th>vehicle_gvwr_class</th>\n",
       "      <th>vehicle_category</th>\n",
       "      <th>vehicle_count</th>\n",
       "      <th>dmv_snapshot_id</th>\n",
       "      <th>dmv_snapshot_(date)</th>\n",
       "      <th>latest_dmv_snapshot_flag</th>\n",
       "    </tr>\n",
       "  </thead>\n",
       "  <tbody>\n",
       "    <tr>\n",
       "      <th>1</th>\n",
       "      <td>TX</td>\n",
       "      <td>75204</td>\n",
       "      <td>10/1/2022</td>\n",
       "      <td>TESLA</td>\n",
       "      <td>MODEL 3</td>\n",
       "      <td>2018</td>\n",
       "      <td>BEV</td>\n",
       "      <td>1</td>\n",
       "      <td>Light-Duty (Class 1-2A)</td>\n",
       "      <td>1</td>\n",
       "      <td>5</td>\n",
       "      <td>DMV Snapshot (1/1/2023)</td>\n",
       "      <td>False</td>\n",
       "    </tr>\n",
       "    <tr>\n",
       "      <th>4</th>\n",
       "      <td>TX</td>\n",
       "      <td>75707</td>\n",
       "      <td>10/1/2022</td>\n",
       "      <td>TESLA</td>\n",
       "      <td>MODEL 3</td>\n",
       "      <td>2018</td>\n",
       "      <td>BEV</td>\n",
       "      <td>1</td>\n",
       "      <td>Light-Duty (Class 1-2A)</td>\n",
       "      <td>1</td>\n",
       "      <td>5</td>\n",
       "      <td>DMV Snapshot (1/1/2023)</td>\n",
       "      <td>False</td>\n",
       "    </tr>\n",
       "    <tr>\n",
       "      <th>12</th>\n",
       "      <td>TX</td>\n",
       "      <td>75069</td>\n",
       "      <td>10/1/2022</td>\n",
       "      <td>TESLA</td>\n",
       "      <td>MODEL 3</td>\n",
       "      <td>2018</td>\n",
       "      <td>BEV</td>\n",
       "      <td>1</td>\n",
       "      <td>Light-Duty (Class 1-2A)</td>\n",
       "      <td>1</td>\n",
       "      <td>5</td>\n",
       "      <td>DMV Snapshot (1/1/2023)</td>\n",
       "      <td>False</td>\n",
       "    </tr>\n",
       "    <tr>\n",
       "      <th>20</th>\n",
       "      <td>TX</td>\n",
       "      <td>75482</td>\n",
       "      <td>10/1/2022</td>\n",
       "      <td>TESLA</td>\n",
       "      <td>MODEL 3</td>\n",
       "      <td>2018</td>\n",
       "      <td>BEV</td>\n",
       "      <td>1</td>\n",
       "      <td>Light-Duty (Class 1-2A)</td>\n",
       "      <td>1</td>\n",
       "      <td>5</td>\n",
       "      <td>DMV Snapshot (1/1/2023)</td>\n",
       "      <td>False</td>\n",
       "    </tr>\n",
       "    <tr>\n",
       "      <th>25</th>\n",
       "      <td>TX</td>\n",
       "      <td>75287</td>\n",
       "      <td>10/1/2022</td>\n",
       "      <td>TESLA</td>\n",
       "      <td>MODEL 3</td>\n",
       "      <td>2018</td>\n",
       "      <td>BEV</td>\n",
       "      <td>1</td>\n",
       "      <td>Light-Duty (Class 1-2A)</td>\n",
       "      <td>1</td>\n",
       "      <td>5</td>\n",
       "      <td>DMV Snapshot (1/1/2023)</td>\n",
       "      <td>False</td>\n",
       "    </tr>\n",
       "  </tbody>\n",
       "</table>\n",
       "</div>"
      ],
      "text/plain": [
       "   state zip_code registration_date vehicle_make vehicle_model  \\\n",
       "1     TX    75204         10/1/2022        TESLA       MODEL 3   \n",
       "4     TX    75707         10/1/2022        TESLA       MODEL 3   \n",
       "12    TX    75069         10/1/2022        TESLA       MODEL 3   \n",
       "20    TX    75482         10/1/2022        TESLA       MODEL 3   \n",
       "25    TX    75287         10/1/2022        TESLA       MODEL 3   \n",
       "\n",
       "   vehicle_model_year drivetrain_type vehicle_gvwr_class  \\\n",
       "1                2018             BEV                  1   \n",
       "4                2018             BEV                  1   \n",
       "12               2018             BEV                  1   \n",
       "20               2018             BEV                  1   \n",
       "25               2018             BEV                  1   \n",
       "\n",
       "           vehicle_category vehicle_count dmv_snapshot_id  \\\n",
       "1   Light-Duty (Class 1-2A)             1               5   \n",
       "4   Light-Duty (Class 1-2A)             1               5   \n",
       "12  Light-Duty (Class 1-2A)             1               5   \n",
       "20  Light-Duty (Class 1-2A)             1               5   \n",
       "25  Light-Duty (Class 1-2A)             1               5   \n",
       "\n",
       "        dmv_snapshot_(date) latest_dmv_snapshot_flag  \n",
       "1   DMV Snapshot (1/1/2023)                    False  \n",
       "4   DMV Snapshot (1/1/2023)                    False  \n",
       "12  DMV Snapshot (1/1/2023)                    False  \n",
       "20  DMV Snapshot (1/1/2023)                    False  \n",
       "25  DMV Snapshot (1/1/2023)                    False  "
      ]
     },
     "execution_count": 61,
     "metadata": {},
     "output_type": "execute_result"
    }
   ],
   "source": [
    "dfw.head()"
   ]
  },
  {
   "cell_type": "code",
   "execution_count": 53,
   "id": "88630444",
   "metadata": {},
   "outputs": [
    {
     "data": {
      "text/plain": [
       "count     171257\n",
       "unique       414\n",
       "top        75035\n",
       "freq        4984\n",
       "Name: zip_code, dtype: object"
      ]
     },
     "execution_count": 53,
     "metadata": {},
     "output_type": "execute_result"
    }
   ],
   "source": [
    "dfw.zip_code.describe()"
   ]
  },
  {
   "cell_type": "code",
   "execution_count": 64,
   "id": "860671c4",
   "metadata": {},
   "outputs": [
    {
     "data": {
      "text/plain": [
       "0.2671578530278472"
      ]
     },
     "execution_count": 64,
     "metadata": {},
     "output_type": "execute_result"
    }
   ],
   "source": [
    "len(dfw.zip_code)/len(df.zip_code)"
   ]
  },
  {
   "cell_type": "code",
   "execution_count": 65,
   "id": "a475f3be",
   "metadata": {},
   "outputs": [
    {
     "data": {
      "text/plain": [
       "0.22797356828193832"
      ]
     },
     "execution_count": 65,
     "metadata": {},
     "output_type": "execute_result"
    }
   ],
   "source": [
    "len(dfw.zip_code.unique())/len(df.zip_code.unique())"
   ]
  },
  {
   "cell_type": "markdown",
   "id": "848166ba",
   "metadata": {},
   "source": [
    "## Does not check out with similar proportion as in the source results 37.16%"
   ]
  },
  {
   "cell_type": "markdown",
   "id": "29921a72",
   "metadata": {},
   "source": [
    "Gather more data for cost of each type of station"
   ]
  },
  {
   "cell_type": "markdown",
   "id": "2a819b30",
   "metadata": {},
   "source": []
  }
 ],
 "metadata": {
  "kernelspec": {
   "display_name": "Python 3 (ipykernel)",
   "language": "python",
   "name": "python3"
  },
  "language_info": {
   "codemirror_mode": {
    "name": "ipython",
    "version": 3
   },
   "file_extension": ".py",
   "mimetype": "text/x-python",
   "name": "python",
   "nbconvert_exporter": "python",
   "pygments_lexer": "ipython3",
   "version": "3.11.3"
  }
 },
 "nbformat": 4,
 "nbformat_minor": 5
}
