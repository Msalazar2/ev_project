{
 "cells": [
  {
   "cell_type": "code",
   "execution_count": 1,
   "id": "e5f3211e-670c-459b-bdd1-77d7804d1cb3",
   "metadata": {},
   "outputs": [],
   "source": [
    "import os\n",
    "\n",
    "import pandas as pd\n",
    "import numpy as np\n",
    "import matplotlib.pyplot as plt\n",
    "import seaborn as sns"
   ]
  },
  {
   "cell_type": "markdown",
   "id": "bb96bfb4",
   "metadata": {},
   "source": [
    "test"
   ]
  },
  {
   "cell_type": "code",
   "execution_count": 2,
   "id": "99eef699-afd5-4978-becd-aafb12761cde",
   "metadata": {},
   "outputs": [],
   "source": [
    "def get_ev_data():\n",
    "    if os.path.isfile('EV_Charging_Stations.csv'):\n",
    "        print('Found file')\n",
    "        # If csv file exists read in data from csv file.\n",
    "        df = pd.read_csv('EV_Charging_Stations.csv', index_col=0)\n",
    "    else:\n",
    "        print('Retrieving file...\\n')\n",
    "        # Read fresh data from db into a dataframe\n",
    "        df = new_telco_data()\n",
    "        # Cache data\n",
    "        df.to_csv('EV_Charging_Stations.csv')\n",
    "        print('\\nFile retrieved.')\n",
    "    return df"
   ]
  },
  {
   "cell_type": "code",
   "execution_count": 3,
   "id": "3b2f5614-c824-4b75-a86f-28fd7cc00a63",
   "metadata": {},
   "outputs": [
    {
     "name": "stdout",
     "output_type": "stream",
     "text": [
      "Found file\n"
     ]
    }
   ],
   "source": [
    "df = get_ev_data()"
   ]
  },
  {
   "cell_type": "code",
   "execution_count": 4,
   "id": "e46e3377-24e2-42be-b10b-9b300f23bf8a",
   "metadata": {},
   "outputs": [
    {
     "data": {
      "text/html": [
       "<div>\n",
       "<style scoped>\n",
       "    .dataframe tbody tr th:only-of-type {\n",
       "        vertical-align: middle;\n",
       "    }\n",
       "\n",
       "    .dataframe tbody tr th {\n",
       "        vertical-align: top;\n",
       "    }\n",
       "\n",
       "    .dataframe thead th {\n",
       "        text-align: right;\n",
       "    }\n",
       "</style>\n",
       "<table border=\"1\" class=\"dataframe\">\n",
       "  <thead>\n",
       "    <tr style=\"text-align: right;\">\n",
       "      <th></th>\n",
       "      <th>Y</th>\n",
       "      <th>Station_Name</th>\n",
       "      <th>City</th>\n",
       "      <th>Street_Address</th>\n",
       "      <th>ZIP</th>\n",
       "      <th>ev_connector_types</th>\n",
       "      <th>ev_network</th>\n",
       "      <th>ev_network_web</th>\n",
       "      <th>Level1_Plugs</th>\n",
       "      <th>Level2_Plugs</th>\n",
       "      <th>DCFC_Plugs</th>\n",
       "      <th>Total_Plugs</th>\n",
       "      <th>Level2</th>\n",
       "      <th>DCFC</th>\n",
       "      <th>Tesla</th>\n",
       "      <th>recid</th>\n",
       "      <th>ESRI_OID</th>\n",
       "    </tr>\n",
       "    <tr>\n",
       "      <th>X</th>\n",
       "      <th></th>\n",
       "      <th></th>\n",
       "      <th></th>\n",
       "      <th></th>\n",
       "      <th></th>\n",
       "      <th></th>\n",
       "      <th></th>\n",
       "      <th></th>\n",
       "      <th></th>\n",
       "      <th></th>\n",
       "      <th></th>\n",
       "      <th></th>\n",
       "      <th></th>\n",
       "      <th></th>\n",
       "      <th></th>\n",
       "      <th></th>\n",
       "      <th></th>\n",
       "    </tr>\n",
       "  </thead>\n",
       "  <tbody>\n",
       "    <tr>\n",
       "      <th>-95.372854</th>\n",
       "      <td>29.756604</td>\n",
       "      <td>BROOKFIELD PROP 300 CLAY STAT1</td>\n",
       "      <td>Houston</td>\n",
       "      <td>300 Clay St</td>\n",
       "      <td>77002</td>\n",
       "      <td>J1772</td>\n",
       "      <td>ChargePoint Network</td>\n",
       "      <td>http://www.chargepoint.com/</td>\n",
       "      <td>0</td>\n",
       "      <td>2</td>\n",
       "      <td>0</td>\n",
       "      <td>2</td>\n",
       "      <td>Level2</td>\n",
       "      <td>No</td>\n",
       "      <td>No</td>\n",
       "      <td>358</td>\n",
       "      <td>2136</td>\n",
       "    </tr>\n",
       "    <tr>\n",
       "      <th>-97.759109</th>\n",
       "      <td>30.206145</td>\n",
       "      <td>Clay Cooley Nissan</td>\n",
       "      <td>Austin</td>\n",
       "      <td>4914 S IH-35</td>\n",
       "      <td>78745</td>\n",
       "      <td>CHADEMOJ1772</td>\n",
       "      <td>Non-Networked</td>\n",
       "      <td>NaN</td>\n",
       "      <td>0</td>\n",
       "      <td>2</td>\n",
       "      <td>1</td>\n",
       "      <td>3</td>\n",
       "      <td>Level2</td>\n",
       "      <td>DCFC</td>\n",
       "      <td>No</td>\n",
       "      <td>379</td>\n",
       "      <td>2626</td>\n",
       "    </tr>\n",
       "    <tr>\n",
       "      <th>-99.771463</th>\n",
       "      <td>32.408909</td>\n",
       "      <td>McGavock Nissan - Abilene</td>\n",
       "      <td>Abilene</td>\n",
       "      <td>818 E Overland Trail</td>\n",
       "      <td>79606</td>\n",
       "      <td>J1772</td>\n",
       "      <td>Non-Networked</td>\n",
       "      <td>NaN</td>\n",
       "      <td>0</td>\n",
       "      <td>1</td>\n",
       "      <td>0</td>\n",
       "      <td>1</td>\n",
       "      <td>Level2</td>\n",
       "      <td>No</td>\n",
       "      <td>No</td>\n",
       "      <td>380</td>\n",
       "      <td>1004</td>\n",
       "    </tr>\n",
       "    <tr>\n",
       "      <th>-101.938937</th>\n",
       "      <td>35.159354</td>\n",
       "      <td>McGavock Nissan - Amarillo</td>\n",
       "      <td>Amarillo</td>\n",
       "      <td>4700 S Soncy Rd</td>\n",
       "      <td>79119</td>\n",
       "      <td>J1772</td>\n",
       "      <td>Non-Networked</td>\n",
       "      <td>NaN</td>\n",
       "      <td>0</td>\n",
       "      <td>2</td>\n",
       "      <td>0</td>\n",
       "      <td>2</td>\n",
       "      <td>Level2</td>\n",
       "      <td>No</td>\n",
       "      <td>No</td>\n",
       "      <td>381</td>\n",
       "      <td>2027</td>\n",
       "    </tr>\n",
       "    <tr>\n",
       "      <th>-97.087169</th>\n",
       "      <td>32.676458</td>\n",
       "      <td>Don Davis Nissan</td>\n",
       "      <td>Arlington</td>\n",
       "      <td>1320 E Interstate 20</td>\n",
       "      <td>76018</td>\n",
       "      <td>J1772</td>\n",
       "      <td>Non-Networked</td>\n",
       "      <td>NaN</td>\n",
       "      <td>0</td>\n",
       "      <td>1</td>\n",
       "      <td>0</td>\n",
       "      <td>1</td>\n",
       "      <td>Level2</td>\n",
       "      <td>No</td>\n",
       "      <td>No</td>\n",
       "      <td>382</td>\n",
       "      <td>1005</td>\n",
       "    </tr>\n",
       "  </tbody>\n",
       "</table>\n",
       "</div>"
      ],
      "text/plain": [
       "                     Y                    Station_Name       City  \\\n",
       "X                                                                   \n",
       "-95.372854   29.756604  BROOKFIELD PROP 300 CLAY STAT1    Houston   \n",
       "-97.759109   30.206145              Clay Cooley Nissan     Austin   \n",
       "-99.771463   32.408909       McGavock Nissan - Abilene    Abilene   \n",
       "-101.938937  35.159354      McGavock Nissan - Amarillo   Amarillo   \n",
       "-97.087169   32.676458                Don Davis Nissan  Arlington   \n",
       "\n",
       "                   Street_Address    ZIP ev_connector_types  \\\n",
       "X                                                             \n",
       "-95.372854            300 Clay St  77002              J1772   \n",
       "-97.759109           4914 S IH-35  78745       CHADEMOJ1772   \n",
       "-99.771463   818 E Overland Trail  79606              J1772   \n",
       "-101.938937       4700 S Soncy Rd  79119              J1772   \n",
       "-97.087169   1320 E Interstate 20  76018              J1772   \n",
       "\n",
       "                      ev_network               ev_network_web  Level1_Plugs  \\\n",
       "X                                                                             \n",
       "-95.372854   ChargePoint Network  http://www.chargepoint.com/             0   \n",
       "-97.759109         Non-Networked                          NaN             0   \n",
       "-99.771463         Non-Networked                          NaN             0   \n",
       "-101.938937        Non-Networked                          NaN             0   \n",
       "-97.087169         Non-Networked                          NaN             0   \n",
       "\n",
       "             Level2_Plugs  DCFC_Plugs  Total_Plugs  Level2  DCFC Tesla  recid  \\\n",
       "X                                                                               \n",
       "-95.372854              2           0            2  Level2    No    No    358   \n",
       "-97.759109              2           1            3  Level2  DCFC    No    379   \n",
       "-99.771463              1           0            1  Level2    No    No    380   \n",
       "-101.938937             2           0            2  Level2    No    No    381   \n",
       "-97.087169              1           0            1  Level2    No    No    382   \n",
       "\n",
       "             ESRI_OID  \n",
       "X                      \n",
       "-95.372854       2136  \n",
       "-97.759109       2626  \n",
       "-99.771463       1004  \n",
       "-101.938937      2027  \n",
       "-97.087169       1005  "
      ]
     },
     "execution_count": 4,
     "metadata": {},
     "output_type": "execute_result"
    }
   ],
   "source": [
    "df.head()"
   ]
  },
  {
   "cell_type": "code",
   "execution_count": 5,
   "id": "10f68d48-10f1-4f3e-9fe1-dfc6c6db6157",
   "metadata": {},
   "outputs": [
    {
     "name": "stdout",
     "output_type": "stream",
     "text": [
      "<class 'pandas.core.frame.DataFrame'>\n",
      "Float64Index: 2927 entries, -95.372854 to -96.753363\n",
      "Data columns (total 17 columns):\n",
      " #   Column              Non-Null Count  Dtype  \n",
      "---  ------              --------------  -----  \n",
      " 0   Y                   2927 non-null   float64\n",
      " 1   Station_Name        2927 non-null   object \n",
      " 2   City                2927 non-null   object \n",
      " 3   Street_Address      2927 non-null   object \n",
      " 4   ZIP                 2927 non-null   int64  \n",
      " 5   ev_connector_types  2927 non-null   object \n",
      " 6   ev_network          2927 non-null   object \n",
      " 7   ev_network_web      2715 non-null   object \n",
      " 8   Level1_Plugs        2927 non-null   int64  \n",
      " 9   Level2_Plugs        2927 non-null   int64  \n",
      " 10  DCFC_Plugs          2927 non-null   int64  \n",
      " 11  Total_Plugs         2927 non-null   int64  \n",
      " 12  Level2              2927 non-null   object \n",
      " 13  DCFC                2927 non-null   object \n",
      " 14  Tesla               2927 non-null   object \n",
      " 15  recid               2927 non-null   int64  \n",
      " 16  ESRI_OID            2927 non-null   int64  \n",
      "dtypes: float64(1), int64(7), object(9)\n",
      "memory usage: 411.6+ KB\n"
     ]
    }
   ],
   "source": [
    "df.info()"
   ]
  },
  {
   "cell_type": "code",
   "execution_count": 6,
   "id": "5a12952e-3f33-4daa-9740-9e6bd21c4b6b",
   "metadata": {},
   "outputs": [
    {
     "data": {
      "text/plain": [
       "(2927, 17)"
      ]
     },
     "execution_count": 6,
     "metadata": {},
     "output_type": "execute_result"
    }
   ],
   "source": [
    "df.shape"
   ]
  },
  {
   "cell_type": "code",
   "execution_count": 7,
   "id": "ceb24d5d-b468-428e-9c13-ab53b30921c5",
   "metadata": {},
   "outputs": [],
   "source": [
    "df = df.ev_connector_types.value_counts()"
   ]
  },
  {
   "cell_type": "code",
   "execution_count": 8,
   "id": "ab112b50-f0e9-41ee-baa4-7e211cca8e47",
   "metadata": {},
   "outputs": [],
   "source": [
    "# List of connector types to combine\n",
    "connector_types_to_combine_a = ['J1772']\n",
    "connector_types_to_combine_b = ['J1772COMBO', 'J1772J1772COMBO']\n",
    "connector_types_to_combine_c = ['TESLA', 'J1772TESLA']\n",
    "connector_types_to_combine_d = ['CHADEMOJ1772', 'CHADEMOJ1772J1772COMBO']\n",
    "connector_types_to_isolate_b = ['J1772NEMA515']\n",
    "\n",
    "# Create a new Series that combines the counts\n",
    "sae_connector = df[connector_types_to_combine_a].sum()\n",
    "css_connector = df[connector_types_to_combine_b].sum()\n",
    "tesla_connector =  df[connector_types_to_combine_c].sum()\n",
    "chade_connector = df[connector_types_to_combine_d].sum()\n",
    "# nema_515_connector = df[connector_types_to_isolate_b].sum()\n",
    "\n",
    "df['sae_connector'] = sae_connector\n",
    "df['tesla_connector'] = tesla_connector\n",
    "df['css_connector'] = css_connector\n",
    "df['chade_connector'] = chade_connector\n",
    "# df['nema_515_connector'] = nema_515_connector"
   ]
  },
  {
   "cell_type": "code",
   "execution_count": 9,
   "id": "52da5421-107b-4e4e-8bcd-59388d90c16b",
   "metadata": {},
   "outputs": [
    {
     "data": {
      "text/plain": [
       "J1772                     2198\n",
       "TESLA                      307\n",
       "CHADEMOJ1772COMBO          161\n",
       "J1772TESLA                 126\n",
       "J1772COMBO                  69\n",
       "CHADEMOJ1772J1772COMBO      49\n",
       "CHADEMOJ1772                10\n",
       "J1772J1772COMBO              4\n",
       "J1772NEMA515                 3\n",
       "sae_connector             2198\n",
       "tesla_connector            433\n",
       "css_connector               73\n",
       "chade_connector             59\n",
       "Name: ev_connector_types, dtype: int64"
      ]
     },
     "execution_count": 9,
     "metadata": {},
     "output_type": "execute_result"
    }
   ],
   "source": [
    "df"
   ]
  },
  {
   "cell_type": "code",
   "execution_count": 10,
   "id": "833c3a9e-1698-4b6f-bf94-6cefb19a9713",
   "metadata": {},
   "outputs": [],
   "source": [
    "indexes_to_drop = ['J1772', 'TESLA', 'CHADEMOJ1772COMBO', 'J1772TESLA', 'J1772COMBO', 'CHADEMOJ1772J1772COMBO', 'CHADEMOJ1772', 'J1772J1772COMBO', 'J1772NEMA515']\n",
    "df = df.drop(indexes_to_drop)"
   ]
  },
  {
   "cell_type": "code",
   "execution_count": 11,
   "id": "94a7e35a-080a-4f7d-b821-71f6a9cf7f8f",
   "metadata": {},
   "outputs": [
    {
     "data": {
      "text/plain": [
       "sae_connector      2198\n",
       "tesla_connector     433\n",
       "css_connector        73\n",
       "chade_connector      59\n",
       "Name: ev_connector_types, dtype: int64"
      ]
     },
     "execution_count": 11,
     "metadata": {},
     "output_type": "execute_result"
    }
   ],
   "source": [
    "df"
   ]
  },
  {
   "cell_type": "code",
   "execution_count": 52,
   "id": "e6017c99-78b4-4bed-8528-67ae4ffb5a50",
   "metadata": {},
   "outputs": [],
   "source": [
    "def plot_ev(data):\n",
    "    plt.figure(figsize=(10, 6))\n",
    "\n",
    "    max_value = df.sae_connector\n",
    "\n",
    "    cols = ['lightgrey' if (x < max(data)) else 'lightgreen' for x in data]\n",
    "    ax = sns.barplot(x = data, y = data.index, palette=cols)\n",
    "    sns.despine(left=True, bottom=True, trim=True)\n",
    "    plt.xticks([])  # Empty list to remove x-axis ticks\n",
    "    plt.gca().set_xlabel('')\n",
    "    plt.title('Electric Vehicle Connector Types in Texas')\n",
    "\n",
    "    custom_labels = ['SAE J1772 Charger     ', 'CCS (Combo) Connector     ', 'CHAdeMO Connector     ',\n",
    "                     'Tesla Connector     ']\n",
    "    \n",
    "    ax.set_yticklabels(custom_labels, color='grey')\n",
    "\n",
    "    for label in ax.get_yticklabels():\n",
    "        if label.get_text() == 'SAE J1772 Charger     ':\n",
    "            label.set_fontweight('bold')\n",
    "    \n",
    "    ax.tick_params(axis='y', length=0)\n",
    "    \n",
    "    for i, bar in enumerate(ax.patches):\n",
    "        width = bar.get_width()\n",
    "        height = bar.get_height()\n",
    "        x_pos = bar.get_x() + width  # Adjusted x-coordinate\n",
    "        y_pos = bar.get_y() + height / 2  # Centered y-coordinate\n",
    "        \n",
    "        font_weight = 'bold' if width == max_value else 'normal'\n",
    "        \n",
    "        ax.annotate(f'{width:.0f}',\n",
    "                    xy=(x_pos, y_pos),\n",
    "                    xytext=(5, 0),  # Adjust the horizontal offset here\n",
    "                    textcoords=\"offset points\",\n",
    "                    ha='left', va='center', fontsize=10, color='black', weight=font_weight)"
   ]
  },
  {
   "cell_type": "code",
   "execution_count": 53,
   "id": "500dd5f7-8187-4e0b-903c-2174aa6dd342",
   "metadata": {},
   "outputs": [
    {
     "data": {
      "image/png": "[encoded data removed]",
      "text/plain": [
       "<Figure size 1000x600 with 1 Axes>"
      ]
     },
     "metadata": {},
     "output_type": "display_data"
    }
   ],
   "source": [
    "plot_ev(df)\n",
    "plt.show()"
   ]
  }
 ],
 "metadata": {
  "kernelspec": {
   "display_name": "Python 3 (ipykernel)",
   "language": "python",
   "name": "python3"
  },
  "language_info": {
   "codemirror_mode": {
    "name": "ipython",
    "version": 3
   },
   "file_extension": ".py",
   "mimetype": "text/x-python",
   "name": "python",
   "nbconvert_exporter": "python",
   "pygments_lexer": "ipython3",
   "version": "3.11.3"
  }
 },
 "nbformat": 4,
 "nbformat_minor": 5
}
